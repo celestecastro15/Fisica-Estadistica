{
 "cells": [
  {
   "cell_type": "markdown",
   "metadata": {},
   "source": [
    "<div class=\"alert alert-info\" role=\"alert\">\n",
    " <p class =\"lead\"> \n",
    " <h1>Física Estadística </h1>\n",
    " <h2>Tarea 2</h2>\n",
    " <h3>Castro Granados Celeste</h3>\n",
    " </div>"
   ]
  },
  {
   "cell_type": "code",
   "execution_count": 1,
   "metadata": {},
   "outputs": [],
   "source": [
    "import numpy as np\n",
    "import matplotlib.pyplot as plt"
   ]
  },
  {
   "cell_type": "markdown",
   "metadata": {},
   "source": [
    "# Ejercicio 1: Histogramas"
   ]
  },
  {
   "cell_type": "markdown",
   "metadata": {},
   "source": [
    "Cargamos primero las 3 distribuciones para poder trabajar con ellas:"
   ]
  },
  {
   "cell_type": "code",
   "execution_count": 2,
   "metadata": {},
   "outputs": [],
   "source": [
    "dist1 = np.loadtxt('Distribucion1.txt',delimiter = ',')\n",
    "dist2 = np.loadtxt('Distribucion2.txt',delimiter = ',')\n",
    "dist3 = np.loadtxt('Distribucion3.txt',delimiter = ',')"
   ]
  },
  {
   "cell_type": "markdown",
   "metadata": {},
   "source": [
    "## a) Calcula los primeros cuatro momentos de las distribuciones.\n",
    "\n",
    "Vamos a definir primero una función para utilizarla directamente en cada una de las distribuciones:"
   ]
  },
  {
   "cell_type": "code",
   "execution_count": 32,
   "metadata": {},
   "outputs": [],
   "source": [
    "#n-número de momento \n",
    "def calculo_momento(dist, n):\n",
    "    suma=np.sum(dist)\n",
    "    promedio=suma/len(dist)\n",
    "    \n",
    "    m = 0\n",
    "    for i in dist:\n",
    "        m += pow(i - promedio,n)\n",
    "    return m/len(dist)"
   ]
  },
  {
   "cell_type": "markdown",
   "metadata": {},
   "source": [
    "### Distribución 1:"
   ]
  },
  {
   "cell_type": "code",
   "execution_count": 46,
   "metadata": {},
   "outputs": [
    {
     "name": "stdout",
     "output_type": "stream",
     "text": [
      "Primer momento:  8.565370634983082e-19\n",
      "Segundo momento:  0.33296360803407443\n",
      "Tercer momento:  0.0006778684686344703\n",
      "Cuarto momento:  0.19996847004342158\n"
     ]
    }
   ],
   "source": [
    "print(\"Primer momento: \", calculo_momento(dist1,1))\n",
    "print(\"Segundo momento: \", calculo_momento(dist1,2))\n",
    "print(\"Tercer momento: \", calculo_momento(dist1,3))\n",
    "print(\"Cuarto momento: \", calculo_momento(dist1,4))"
   ]
  },
  {
   "cell_type": "markdown",
   "metadata": {},
   "source": [
    "### Distribución 2:"
   ]
  },
  {
   "cell_type": "code",
   "execution_count": 47,
   "metadata": {},
   "outputs": [
    {
     "name": "stdout",
     "output_type": "stream",
     "text": [
      "Primer momento:  2.163513812547535e-16\n",
      "Segundo momento:  3.97580750488028\n",
      "Tercer momento:  0.010835119461595691\n",
      "Cuarto momento:  47.39797842149791\n"
     ]
    }
   ],
   "source": [
    "print(\"Primer momento: \", calculo_momento(dist2,1))\n",
    "print(\"Segundo momento: \", calculo_momento(dist2,2))\n",
    "print(\"Tercer momento: \", calculo_momento(dist2,3))\n",
    "print(\"Cuarto momento: \", calculo_momento(dist2,4))"
   ]
  },
  {
   "cell_type": "markdown",
   "metadata": {},
   "source": [
    "### Distribución 3:"
   ]
  },
  {
   "cell_type": "code",
   "execution_count": 48,
   "metadata": {},
   "outputs": [
    {
     "name": "stdout",
     "output_type": "stream",
     "text": [
      "Primer momento:  -3.751858823619614e-15\n",
      "Segundo momento:  96583.51398287508\n",
      "Tercer momento:  5937360901.740372\n",
      "Cuarto momento:  553804973542483.06\n"
     ]
    }
   ],
   "source": [
    "print(\"Primer momento: \", calculo_momento(dist3,1))\n",
    "print(\"Segundo momento: \", calculo_momento(dist3,2))\n",
    "print(\"Tercer momento: \", calculo_momento(dist3,3))\n",
    "print(\"Cuarto momento: \", calculo_momento(dist3,4))"
   ]
  },
  {
   "cell_type": "markdown",
   "metadata": {},
   "source": [
    "## b) Construye histogramas de cada distribución. \n",
    "### (Pista: para la serie de datos #3, construye un histograma con 200 bins, donde el primer bin del histograma comience en -500, y el tamano de los bins sea igual a 5. Grafica este histograma en escala semi logarıtmica.)\n",
    "\n",
    "### Distribución 1:"
   ]
  },
  {
   "cell_type": "code",
   "execution_count": 45,
   "metadata": {},
   "outputs": [
    {
     "data": {
      "image/png": "[encoded data removed]",
      "text/plain": [
       "<Figure size 432x288 with 1 Axes>"
      ]
     },
     "metadata": {
      "needs_background": "light"
     },
     "output_type": "display_data"
    }
   ],
   "source": [
    "plt.hist(x=dist1, bins=200, color='#33C6FF', rwidth= 1)\n",
    "plt.title('Distribución 1')\n",
    "plt.xlabel('Valor')\n",
    "plt.ylabel('Frecuencia')\n",
    "plt.show()"
   ]
  },
  {
   "cell_type": "markdown",
   "metadata": {},
   "source": [
    "### Distribución 2:"
   ]
  },
  {
   "cell_type": "code",
   "execution_count": 12,
   "metadata": {},
   "outputs": [
    {
     "data": {
      "image/png": "[encoded data removed]",
      "text/plain": [
       "<Figure size 432x288 with 1 Axes>"
      ]
     },
     "metadata": {
      "needs_background": "light"
     },
     "output_type": "display_data"
    }
   ],
   "source": [
    "plt.hist(x=dist2, bins=200, color='#DE33FF', rwidth= 1)\n",
    "plt.title('Distribución 2')\n",
    "plt.xlabel('Valor')\n",
    "plt.ylabel('Frecuencia')\n",
    "plt.show()"
   ]
  },
  {
   "cell_type": "markdown",
   "metadata": {},
   "source": [
    "### Distribución 3: \n",
    "\n",
    "En este caso necesitamos definir primero los intervalos que tomarán los bins."
   ]
  },
  {
   "cell_type": "code",
   "execution_count": 43,
   "metadata": {},
   "outputs": [
    {
     "data": {
      "image/png": "[encoded data removed]",
      "text/plain": [
       "<Figure size 432x288 with 1 Axes>"
      ]
     },
     "metadata": {
      "needs_background": "light"
     },
     "output_type": "display_data"
    }
   ],
   "source": [
    "intervalos=np.linspace(-500, 500, 200,5) #serán 200 bins con un tamaño de 5 cada uno\n",
    "plt.hist(x=dist3, bins=intervalos, color='#33FF5D', rwidth= 1)\n",
    "plt.title('Distribución 3 (escala semi logarítmica)')\n",
    "plt.xlabel('Valores')\n",
    "plt.ylabel('Frecuencia')\n",
    "plt.yscale('log') #cambiamos la escala de y para tenerla en escala logarítmica\n",
    "plt.show()"
   ]
  },
  {
   "cell_type": "markdown",
   "metadata": {},
   "source": [
    "## c) ¿A qué distribución es probable que corresponda cada una de estas series de datos?\n",
    "\n",
    "Para responder esta pregunta, vamos a definir primero dos funciones que calculen la skewness y la kurtosis respectivamente."
   ]
  },
  {
   "cell_type": "code",
   "execution_count": 50,
   "metadata": {},
   "outputs": [],
   "source": [
    "def skewness(dist):\n",
    "    desv=np.std(dist)\n",
    "    sk = calculo_momento(dist,3)/(desv)**3\n",
    "    return sk "
   ]
  },
  {
   "cell_type": "code",
   "execution_count": 51,
   "metadata": {},
   "outputs": [],
   "source": [
    "def kurtosis(dist):\n",
    "    desv=np.std(dist)\n",
    "    kt = calculo_momento(dist,4)/(desv)**4\n",
    "    return kt"
   ]
  },
  {
   "cell_type": "markdown",
   "metadata": {},
   "source": [
    "### Distribución 1: \n",
    "La primer serie de datos es probable que corresponda a una distribución uniforme, esto se puede ver desde la forma de la gráfica, y además la varianza que corresponde al 2ndo momento es muy pequeña. Finalmente, si calculamos el \"skewness\", notamos que también es pequeño, lo que indica que la distribución es muy simétrica como es el caso de una distribución uniforme."
   ]
  },
  {
   "cell_type": "code",
   "execution_count": 56,
   "metadata": {},
   "outputs": [
    {
     "data": {
      "text/plain": [
       "0.0035281763097291478"
      ]
     },
     "execution_count": 56,
     "metadata": {},
     "output_type": "execute_result"
    }
   ],
   "source": [
    "skewness(dist1)"
   ]
  },
  {
   "cell_type": "markdown",
   "metadata": {},
   "source": [
    "### Distribución 2: \n",
    "\n",
    "La segunda serie de datos es probable que corresponda a una distribución normal, esto se puede ver desde la forma de la gráfica y podemos confirmarlo al calcular la kurtosis, pues vemos que es aproximadamente 3, lo cual corresponde a una distribución normal/de campana. Estrictamente, se trata de una distribución de cola ancha pues la kurtosis < 3. Asimismo, el \"skewness\" es muy pequeño denotando nuevamente que la distribución es muy simétrica, hecho que concuerda perfectamente. "
   ]
  },
  {
   "cell_type": "code",
   "execution_count": 53,
   "metadata": {},
   "outputs": [
    {
     "name": "stdout",
     "output_type": "stream",
     "text": [
      "2.9985349870500304\n",
      "0.0013667707633144206\n"
     ]
    }
   ],
   "source": [
    "print(kurtosis(dist2))\n",
    "print(skewness(dist2))"
   ]
  },
  {
   "cell_type": "markdown",
   "metadata": {},
   "source": [
    "### Distribución 3: \n",
    "\n",
    "La tercer serie de datos es probable que corresponda a una distribución leptocúrtica o de cola angosta, pues se tiene que kurtosis > 3 (de hecho, es mucho más grande). Además, podemos notar que el \"skewness\" es muy grande lo cual indica que la distribución es asimétrica. "
   ]
  },
  {
   "cell_type": "code",
   "execution_count": 57,
   "metadata": {},
   "outputs": [
    {
     "name": "stdout",
     "output_type": "stream",
     "text": [
      "59367.78519894724\n",
      "197.80576503809345\n"
     ]
    }
   ],
   "source": [
    "print(kurtosis(dist3))\n",
    "print(skewness(dist3))"
   ]
  },
  {
   "cell_type": "code",
   "execution_count": null,
   "metadata": {},
   "outputs": [],
   "source": []
  }
 ],
 "metadata": {
  "@webio": {
   "lastCommId": null,
   "lastKernelId": null
  },
  "kernelspec": {
   "display_name": "Python 3",
   "language": "python",
   "name": "python3"
  },
  "language_info": {
   "codemirror_mode": {
    "name": "ipython",
    "version": 3
   },
   "file_extension": ".py",
   "mimetype": "text/x-python",
   "name": "python",
   "nbconvert_exporter": "python",
   "pygments_lexer": "ipython3",
   "version": "3.7.6"
  }
 },
 "nbformat": 4,
 "nbformat_minor": 4
}
